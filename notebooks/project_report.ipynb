{
  "cells": [
    {
      "cell_type": "code",
      "execution_count": 1,
      "metadata": {},
      "outputs": [
        {
          "ename": "ModuleNotFoundError",
          "evalue": "No module named 'fpdf'",
          "output_type": "error",
          "traceback": [
            "\u001b[1;31m---------------------------------------------------------------------------\u001b[0m",
            "\u001b[1;31mModuleNotFoundError\u001b[0m                       Traceback (most recent call last)",
            "Cell \u001b[1;32mIn[1], line 6\u001b[0m\n\u001b[0;32m      4\u001b[0m \u001b[38;5;28;01mfrom\u001b[39;00m\u001b[38;5;250m \u001b[39m\u001b[38;5;21;01mdatetime\u001b[39;00m\u001b[38;5;250m \u001b[39m\u001b[38;5;28;01mimport\u001b[39;00m datetime\n\u001b[0;32m      5\u001b[0m \u001b[38;5;28;01mimport\u001b[39;00m\u001b[38;5;250m \u001b[39m\u001b[38;5;21;01mos\u001b[39;00m\n\u001b[1;32m----> 6\u001b[0m \u001b[38;5;28;01mfrom\u001b[39;00m\u001b[38;5;250m \u001b[39m\u001b[38;5;21;01mfpdf\u001b[39;00m\u001b[38;5;250m \u001b[39m\u001b[38;5;28;01mimport\u001b[39;00m FPDF\n",
            "\u001b[1;31mModuleNotFoundError\u001b[0m: No module named 'fpdf'"
          ]
        }
      ],
      "source": [
        "import pandas as pd\n",
        "import matplotlib.pyplot as plt\n",
        "import seaborn as sns\n",
        "from datetime import datetime\n",
        "import os\n",
        "from fpdf import FPDF\n"
      ]
    },
    {
      "cell_type": "code",
      "execution_count": null,
      "metadata": {},
      "outputs": [],
      "source": [
        "# Load all datasets\n",
        "abs_dir = os.path.abspath(os.path.dirname(os.getcwd()))\n",
        "data_dir = os.path.join(abs_dir, 'data')\n",
        "\n",
        "# Read all CSV files\n",
        "boa_df = pd.read_csv(os.path.join(data_dir, 'boa_reviews_20250608_162800.csv'))\n",
        "cbe_df = pd.read_csv(os.path.join(data_dir, 'combanketh_reviews_20250608_162756.csv'))\n",
        "dashen_df = pd.read_csv(os.path.join(data_dir, 'dashen_reviews_20250608_162802.csv'))\n",
        "\n",
        "# Calculate total raw data points\n",
        "total_raw = len(boa_df) + len(cbe_df) + len(dashen_df)\n",
        "print(f\"Total raw data points: {total_raw}\")\n",
        "\n",
        "# Calculate cleaned data points (after removing duplicates)\n",
        "boa_clean = len(boa_df.drop_duplicates(subset=['review_text', 'rating']))\n",
        "cbe_clean = len(cbe_df.drop_duplicates(subset=['review_text', 'rating']))\n",
        "dashen_clean = len(dashen_df.drop_duplicates(subset=['review_text', 'rating']))\n",
        "total_clean = boa_clean + cbe_clean + dashen_clean\n",
        "print(f\"Total cleaned data points: {total_clean}\")\n"
      ]
    },
    {
      "cell_type": "code",
      "execution_count": 2,
      "metadata": {},
      "outputs": [
        {
          "ename": "NameError",
          "evalue": "name 'FPDF' is not defined",
          "output_type": "error",
          "traceback": [
            "\u001b[1;31m---------------------------------------------------------------------------\u001b[0m",
            "\u001b[1;31mNameError\u001b[0m                                 Traceback (most recent call last)",
            "Cell \u001b[1;32mIn[2], line 1\u001b[0m\n\u001b[1;32m----> 1\u001b[0m \u001b[38;5;28;01mclass\u001b[39;00m\u001b[38;5;250m \u001b[39m\u001b[38;5;21;01mReport\u001b[39;00m(\u001b[43mFPDF\u001b[49m):\n\u001b[0;32m      2\u001b[0m     \u001b[38;5;28;01mdef\u001b[39;00m\u001b[38;5;250m \u001b[39m\u001b[38;5;21mheader\u001b[39m(\u001b[38;5;28mself\u001b[39m):\n\u001b[0;32m      3\u001b[0m         \u001b[38;5;28mself\u001b[39m\u001b[38;5;241m.\u001b[39mset_font(\u001b[38;5;124m'\u001b[39m\u001b[38;5;124mArial\u001b[39m\u001b[38;5;124m'\u001b[39m, \u001b[38;5;124m'\u001b[39m\u001b[38;5;124mB\u001b[39m\u001b[38;5;124m'\u001b[39m, \u001b[38;5;241m15\u001b[39m)\n",
            "\u001b[1;31mNameError\u001b[0m: name 'FPDF' is not defined"
          ]
        }
      ],
      "source": [
        "class Report(FPDF):\n",
        "    def header(self):\n",
        "        self.set_font('Arial', 'B', 15)\n",
        "        self.cell(0, 10, 'UX Analytics Fintech Project Report', 0, 1, 'C')\n",
        "        self.ln(10)\n",
        "        \n",
        "    def footer(self):\n",
        "        self.set_y(-15)\n",
        "        self.set_font('Arial', 'I', 8)\n",
        "        self.cell(0, 10, f'Page {self.page_no()}', 0, 0, 'C')\n",
        "\n",
        "# Create PDF\n",
        "pdf = Report()\n",
        "pdf.add_page()\n",
        "\n",
        "# Project Overview\n",
        "pdf.set_font('Arial', 'B', 12)\n",
        "pdf.cell(0, 10, '1. Project Overview', 0, 1)\n",
        "pdf.set_font('Arial', '', 11)\n",
        "pdf.multi_cell(0, 10, 'This project focuses on analyzing user experience data from three major Ethiopian banks: Bank of Abyssinia (BOA), Commercial Bank of Ethiopia (CBE), and Dashen Bank. The analysis includes web scraping of user reviews and comprehensive data processing.')\n",
        "\n",
        "# Data Collection\n",
        "pdf.set_font('Arial', 'B', 12)\n",
        "pdf.cell(0, 10, '2. Data Collection Methodology', 0, 1)\n",
        "pdf.set_font('Arial', '', 11)\n",
        "pdf.multi_cell(0, 10, f'- Total raw data points collected: {total_raw}\\n- Total cleaned data points: {total_clean}\\n- Data sources: Web scraping of bank review platforms\\n- Collection date: June 8, 2025')\n",
        "\n",
        "# Data Processing Steps\n",
        "pdf.set_font('Arial', 'B', 12)\n",
        "pdf.cell(0, 10, '3. Data Processing Methodology', 0, 1)\n",
        "pdf.set_font('Arial', '', 11)\n",
        "pdf.multi_cell(0, 10, '1. Data Cleaning:\\n   - Removal of duplicate entries\\n   - Date format standardization\\n   - Null value handling\\n\\n2. Feature Engineering:\\n   - Sentiment analysis of review text\\n   - Rating normalization\\n   - Temporal analysis preparation')\n",
        "\n",
        "# Bank-wise Breakdown\n",
        "pdf.set_font('Arial', 'B', 12)\n",
        "pdf.cell(0, 10, '4. Bank-wise Data Distribution', 0, 1)\n",
        "pdf.set_font('Arial', '', 11)\n",
        "pdf.multi_cell(0, 10, f'Bank of Abyssinia:\\n- Raw entries: {len(boa_df)}\\n- Cleaned entries: {boa_clean}\\n\\nCommercial Bank of Ethiopia:\\n- Raw entries: {len(cbe_df)}\\n- Cleaned entries: {cbe_clean}\\n\\nDashen Bank:\\n- Raw entries: {len(dashen_df)}\\n- Cleaned entries: {dashen_clean}')\n",
        "\n",
        "# Save the PDF\n",
        "pdf_path = os.path.join(abs_dir, 'UX_Analytics_Report.pdf')\n",
        "pdf.output(pdf_path)\n",
        "print(f\"Report generated and saved as: {pdf_path}\")\n"
      ]
    }
  ],
  "metadata": {
    "kernelspec": {
      "display_name": "Python 3",
      "language": "python",
      "name": "python3"
    },
    "language_info": {
      "codemirror_mode": {
        "name": "ipython",
        "version": 3
      },
      "file_extension": ".py",
      "mimetype": "text/x-python",
      "name": "python",
      "nbconvert_exporter": "python",
      "pygments_lexer": "ipython3",
      "version": "3.12.9"
    }
  },
  "nbformat": 4,
  "nbformat_minor": 2
}
