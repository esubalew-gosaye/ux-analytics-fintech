{
 "cells": [
  {
   "cell_type": "code",
   "execution_count": 12,
   "metadata": {},
   "outputs": [],
   "source": [
    "import pandas as pd\n",
    "import os"
   ]
  },
  {
   "cell_type": "code",
   "execution_count": 13,
   "metadata": {},
   "outputs": [],
   "source": [
    "# Get the absolute path to the data directory\n",
    "abs_dir = os.path.abspath(os.path.dirname(os.getcwd()))"
   ]
  },
  {
   "cell_type": "code",
   "execution_count": 18,
   "metadata": {},
   "outputs": [],
   "source": [
    "df = pd.read_csv(os.path.join(abs_dir, 'data/combanketh_reviews_20250608_162756.csv'))"
   ]
  },
  {
   "cell_type": "code",
   "execution_count": 20,
   "metadata": {},
   "outputs": [
    {
     "data": {
      "text/html": [
       "<div>\n",
       "<style scoped>\n",
       "    .dataframe tbody tr th:only-of-type {\n",
       "        vertical-align: middle;\n",
       "    }\n",
       "\n",
       "    .dataframe tbody tr th {\n",
       "        vertical-align: top;\n",
       "    }\n",
       "\n",
       "    .dataframe thead th {\n",
       "        text-align: right;\n",
       "    }\n",
       "</style>\n",
       "<table border=\"1\" class=\"dataframe\">\n",
       "  <thead>\n",
       "    <tr style=\"text-align: right;\">\n",
       "      <th></th>\n",
       "      <th>review_text</th>\n",
       "      <th>rating</th>\n",
       "      <th>upvote</th>\n",
       "      <th>date</th>\n",
       "      <th>bank_name</th>\n",
       "      <th>source</th>\n",
       "    </tr>\n",
       "  </thead>\n",
       "  <tbody>\n",
       "    <tr>\n",
       "      <th>0</th>\n",
       "      <td>really am happy to this app it is Siple to use...</td>\n",
       "      <td>5</td>\n",
       "      <td>0</td>\n",
       "      <td>2025-06-07</td>\n",
       "      <td>Commercial Bank of Ethiopia</td>\n",
       "      <td>Google Play</td>\n",
       "    </tr>\n",
       "    <tr>\n",
       "      <th>1</th>\n",
       "      <td>I liked this app. But the User interface is ve...</td>\n",
       "      <td>2</td>\n",
       "      <td>0</td>\n",
       "      <td>2025-06-07</td>\n",
       "      <td>Commercial Bank of Ethiopia</td>\n",
       "      <td>Google Play</td>\n",
       "    </tr>\n",
       "    <tr>\n",
       "      <th>2</th>\n",
       "      <td>\"Why don’t your ATMs support account-to-accoun...</td>\n",
       "      <td>4</td>\n",
       "      <td>0</td>\n",
       "      <td>2025-06-06</td>\n",
       "      <td>Commercial Bank of Ethiopia</td>\n",
       "      <td>Google Play</td>\n",
       "    </tr>\n",
       "    <tr>\n",
       "      <th>3</th>\n",
       "      <td>what is this app problem???</td>\n",
       "      <td>1</td>\n",
       "      <td>0</td>\n",
       "      <td>2025-06-05</td>\n",
       "      <td>Commercial Bank of Ethiopia</td>\n",
       "      <td>Google Play</td>\n",
       "    </tr>\n",
       "    <tr>\n",
       "      <th>4</th>\n",
       "      <td>the app is proactive and a good connections.</td>\n",
       "      <td>5</td>\n",
       "      <td>0</td>\n",
       "      <td>2025-06-05</td>\n",
       "      <td>Commercial Bank of Ethiopia</td>\n",
       "      <td>Google Play</td>\n",
       "    </tr>\n",
       "  </tbody>\n",
       "</table>\n",
       "</div>"
      ],
      "text/plain": [
       "                                         review_text  rating  upvote  \\\n",
       "0  really am happy to this app it is Siple to use...       5       0   \n",
       "1  I liked this app. But the User interface is ve...       2       0   \n",
       "2  \"Why don’t your ATMs support account-to-accoun...       4       0   \n",
       "3                        what is this app problem???       1       0   \n",
       "4       the app is proactive and a good connections.       5       0   \n",
       "\n",
       "         date                    bank_name       source  \n",
       "0  2025-06-07  Commercial Bank of Ethiopia  Google Play  \n",
       "1  2025-06-07  Commercial Bank of Ethiopia  Google Play  \n",
       "2  2025-06-06  Commercial Bank of Ethiopia  Google Play  \n",
       "3  2025-06-05  Commercial Bank of Ethiopia  Google Play  \n",
       "4  2025-06-05  Commercial Bank of Ethiopia  Google Play  "
      ]
     },
     "execution_count": 20,
     "metadata": {},
     "output_type": "execute_result"
    }
   ],
   "source": [
    "df.head()"
   ]
  }
 ],
 "metadata": {
  "kernelspec": {
   "display_name": "Python 3",
   "language": "python",
   "name": "python3"
  },
  "language_info": {
   "codemirror_mode": {
    "name": "ipython",
    "version": 3
   },
   "file_extension": ".py",
   "mimetype": "text/x-python",
   "name": "python",
   "nbconvert_exporter": "python",
   "pygments_lexer": "ipython3",
   "version": "3.12.9"
  }
 },
 "nbformat": 4,
 "nbformat_minor": 2
}
